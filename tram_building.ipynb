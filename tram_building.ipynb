{
 "cells": [
  {
   "cell_type": "code",
   "execution_count": null,
   "id": "93a90168",
   "metadata": {},
   "outputs": [],
   "source": [
    "# Download necessary files\n",
    "\n",
    "#pairwise atom list used in distance calculation\n",
    "!wget --no-check-certificate --content-disposition \"https://uofi.box.com/shared/static/ane5qf363rb89ez62u5e4bkwaf4y4tht\"\n",
    "#feature filename list for umbrealla sampling trajectories\n",
    "!wget --no-check-certificate --content-disposition \"https://uofi.box.com/shared/static/8bxysw64rax2wix4ofa4grkdiyotloyh\"\n",
    "#calculated distance feature for umbrealla sampling trajectories\n",
    "!wget --no-check-certificate --content-disposition \"https://uofi.box.com/shared/static/9al8uf0cixepp4mggsgfz5p3qqq8v2cv\"\n",
    "#feature filename list for unbiased trajectories\n",
    "!wget --no-check-certificate --content-disposition \"https://uofi.box.com/shared/static/z1z0qm5tfda1x1q1ufrrtrnsk5np7vfg\"\n",
    "#calculated distance feature for unbiased trajectories\n",
    "!wget --no-check-certificate --content-disposition \"https://uofi.box.com/shared/static/5pyadgyf9kmf9drqwxv1kwp6thuitzyu\"\n"
   ]
  },
  {
   "cell_type": "code",
   "execution_count": null,
   "id": "aad9c8f8",
   "metadata": {},
   "outputs": [],
   "source": [
    "import numpy as np\n",
    "import matplotlib.pyplot as plt\n",
    "import pickle\n",
    "import sys\n",
    "import pyemma"
   ]
  },
  {
   "cell_type": "code",
   "execution_count": null,
   "id": "df7f8278",
   "metadata": {},
   "outputs": [],
   "source": [
    "#number of windows for umbrella sampling\n",
    "umbrella_windows = 300\n",
    "#center of umbrella windows\n",
    "windows = [np.round(5 + i*0.1,1) for i in range(umbrella_windows)]\n",
    "#atom pair at which bias is applied\n",
    "atom_pair = [3004, 5310]\n",
    "#number of states used in tram calculation\n",
    "cluster = 800\n",
    "#tica lag time and number of dimension used for distance feature transformation\n",
    "tica_lag = 50\n",
    "tica_dim = 6\n",
    "# lag time used for tram\n",
    "lag_time = 150"
   ]
  },
  {
   "cell_type": "code",
   "execution_count": null,
   "id": "4aa6dbf4",
   "metadata": {},
   "outputs": [],
   "source": [
    "#umbralla sampling distance feature filename list\n",
    "biased_feature_files = pickle.load(open('CB1_classical_us_distance_feature_files.pkl','rb'))\n",
    "#unbiased distance feature filename list\n",
    "unbiased_feature_files = pickle.load(open('CB1_classical_distance_feature_files.pkl','rb'))\n",
    "\n",
    "feature_files = biased_feature_files + unbiased_feature_files"
   ]
  },
  {
   "cell_type": "code",
   "execution_count": null,
   "id": "95b82f62",
   "metadata": {},
   "outputs": [],
   "source": [
    "#pairwise atom list used in distance calculation\n",
    "atom_list = pickle.load(open('CB1_classical_distance_atom_pairs.pkl','rb'))\n",
    "#umbralla sampling distance feature list\n",
    "biased_feature = pickle.load(open('CB1_classical_us_distance_feature.pkl','rb'))\n",
    "#unbiased distance feature list\n",
    "unbiased_feature = pickle.load(open('CB1_classical_distance_feature.pkl','rb'))\n",
    "\n",
    "feature = biased_feature + unbiased_feature"
   ]
  },
  {
   "cell_type": "code",
   "execution_count": null,
   "id": "24b67406",
   "metadata": {},
   "outputs": [],
   "source": [
    "#bias energy calculation for each frame of all trajectories. \n",
    "#This is the bias energy each frame would feel in each ensemble.\n",
    "#Every window in umbrella sampling represents a single ensemble. \n",
    "#Unbiased simulation represents another ensemble.\n",
    "def biased_energy(feature,windows,index):\n",
    "    bias = []\n",
    "    for traj_feature in feature:\n",
    "        dist = traj_feature[:,index]*10\n",
    "        traj_bias = np.zeros([len(dist),len(windows)+1])\n",
    "        for k in range(len(windows)):\n",
    "            temp = np.array([10/(0.002*300*2)*(d-windows[k])**2 for d in dist])\n",
    "            traj_bias[:,k] = temp\n",
    "            traj_bias[:,-1] = [0 for d in dist] \n",
    "        bias.append(traj_bias)\n",
    "\n",
    "    return bias\n",
    "\n",
    "index = atom_list.index([3004, 5310])\n",
    "bias =  biased_energy(feature,windows,index)"
   ]
  },
  {
   "cell_type": "code",
   "execution_count": null,
   "id": "83aba72b",
   "metadata": {},
   "outputs": [],
   "source": [
    "#index of each trajectory belonging to a particular ensemble \n",
    "def ttrajs_calculation(feature_files,feature):\n",
    "    ttrajs = []\n",
    "    for i,file in enumerate(feature_files):\n",
    "        traj_length = len(feature[i])\n",
    "        words =  file.split('_')\n",
    "        if 'us' in words:\n",
    "            ttrajs.append(np.array([int(words[5])]*traj_length))\n",
    "        else:\n",
    "            ttrajs.append(np.array([int(300)]*traj_length))\n",
    "\n",
    "    return ttrajs\n",
    "\n",
    "ttrajs = ttrajs_calculation(feature_files,feature)"
   ]
  },
  {
   "cell_type": "code",
   "execution_count": null,
   "id": "b3e48d6a",
   "metadata": {},
   "outputs": [],
   "source": [
    "#tica transformation of each trajectory and clustering of the tic space\n",
    "def dtrajs_calculation(biased_feature,unbiased_feature,cluster):\n",
    "    biased_tic = pyemma.coordinates.tica(biased_feature,lag=tica_lag,dim=tica_dim)\n",
    "    data_biased_tic = biased_tic.get_output()\n",
    "    transformed_biased_tic = biased_tic.transform(unbiased_feature)\n",
    "\n",
    "    unbiased_tic = pyemma.coordinates.tica(unbiased_feature,lag=tica_lag,dim=tica_dim)\n",
    "    data_unbiased_tic = unbiased_tic.get_output()\n",
    "    transformed_unbiased_tic = unbiased_tic.transform(biased_feature)\n",
    "\n",
    "    data_tic = []\n",
    "    for b,d in zip(data_biased_tic,transformed_unbiased_tic):\n",
    "        temp = np.concatenate((b,d),axis=1)\n",
    "        data_tic.append(temp)\n",
    "\n",
    "    for b,d in zip(transformed_biased_tic,data_unbiased_tic):\n",
    "        temp = np.concatenate((b,d),axis=1)\n",
    "        data_tic.append(temp)\n",
    "\n",
    "    dtrajs = pyemma.coordinates.cluster_kmeans(data_tic,k=cluster,max_iter=100, tolerance=1e-05, stride=2).dtrajs\n",
    "    return dtrajs\n",
    "\n",
    "dtrajs = dtrajs_calculation(biased_feature,unbiased_feature,cluster)"
   ]
  },
  {
   "cell_type": "code",
   "execution_count": null,
   "id": "7335bba3",
   "metadata": {},
   "outputs": [],
   "source": [
    "#tram building\n",
    "def tram_implementation(ttrajs, dtrajs, bias,lag_time):\n",
    "    ther_obj = pyemma.thermo.tram(ttrajs, dtrajs, bias, lag=lag_time, unbiased_state = 300, maxerr=1e-04, init_maxerr=1e-04)\n",
    "    return ther_obj\n",
    "\n",
    "ther_obj = tram_implementation(ttrajs, dtrajs, bias, lag_time)"
   ]
  }
 ],
 "metadata": {
  "kernelspec": {
   "display_name": "Python (pyemma)",
   "language": "python",
   "name": "pyemma"
  },
  "language_info": {
   "codemirror_mode": {
    "name": "ipython",
    "version": 3
   },
   "file_extension": ".py",
   "mimetype": "text/x-python",
   "name": "python",
   "nbconvert_exporter": "python",
   "pygments_lexer": "ipython3",
   "version": "3.9.16"
  }
 },
 "nbformat": 4,
 "nbformat_minor": 5
}
